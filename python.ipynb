{
 "cells": [
  {
   "cell_type": "code",
   "execution_count": 7,
   "metadata": {},
   "outputs": [
    {
     "name": "stdout",
     "output_type": "stream",
     "text": [
      "Christopher Healey @ 9195138112\n",
      "Michael Rappa @ 9195130480\n",
      "Aric LaBarr @ 9195132957\n"
     ]
    }
   ],
   "source": [
    "# Write a set of Python statements that assign the names and \n",
    "# associated phone numbers: Christopher Healey, 9195138112, Michael Rappa, 9195130480, \n",
    "# and Aric LaBarr, 9195132957 to Python variables, \n",
    "# then prints three lines listing each person's name and corresponding phone number.\n",
    "\n",
    "name0 = \"Christopher Healey\"\n",
    "number0 = 9195138112\n",
    "name1 = \"Michael Rappa\"\n",
    "number1 = 9195130480\n",
    "name2 = \"Aric LaBarr\"\n",
    "number2 = 9195132957\n",
    "\n",
    "print(name0, \"@\", number0)\n",
    "print(name1, \"@\", number1)\n",
    "print(name2, \"@\", number2)"
   ]
  },
  {
   "cell_type": "code",
   "execution_count": 10,
   "metadata": {},
   "outputs": [
    {
     "name": "stdout",
     "output_type": "stream",
     "text": [
      "True\n",
      "-A\n"
     ]
    }
   ],
   "source": [
    "# Now, we're telling a program, \"If some condition is true, then do this, \n",
    "# else if some other condition is true, then do this, else do that.\" \n",
    "# You can include as many else-if statements as you want in an if-then-else conditional.\n",
    "grade = 94\n",
    "if grade >= 95:\n",
    "\tpassed = True\n",
    "\tletter = 'A'\n",
    "elif grade >= 90:\n",
    "    passed = True\n",
    "    letter = '-A'\n",
    "elif grade >= 80:\n",
    "\tpassed = True\n",
    "\tletter = 'B'\n",
    "elif grade >= 65:\n",
    "\tpassed = True\n",
    "\tletter = 'C'\n",
    "elif grade >= 50:\n",
    "\tpassed = True\n",
    "\tletter = 'D'\n",
    "else:\n",
    "\tpassed = False\n",
    "\tletter = 'F'\n",
    "\n",
    "print( passed )\n",
    "print( letter )"
   ]
  },
  {
   "cell_type": "code",
   "execution_count": 16,
   "metadata": {},
   "outputs": [
    {
     "name": "stdout",
     "output_type": "stream",
     "text": [
      "If I squared 2 it would be 4.0\n",
      "If I squared 3 it would be 9.0\n",
      "If I squared 4 it would be 16.0\n",
      "If I squared 5 it would be 25.0\n",
      "If I squared 6 it would be 36.0\n",
      "If I squared 7 it would be 49.0\n",
      "If I squared 8 it would be 64.0\n",
      "If I squared 9 it would be 81.0\n",
      "If I squared 10 it would be 100.0\n",
      "If I squared 11 it would be 121.0\n",
      "If I squared 12 it would be 144.0\n",
      "If I squared 13 it would be 169.0\n",
      "If I squared 14 it would be 196.0\n",
      "If I squared 15 it would be 225.0\n",
      "If I squared 16 it would be 256.0\n",
      "If I squared 17 it would be 289.0\n",
      "If I squared 18 it would be 324.0\n",
      "If I squared 19 it would be 361.0\n",
      "If I squared 20 it would be 400.0\n",
      "If I squared 21 it would be 441.0\n",
      "If I squared 22 it would be 484.0\n",
      "If I squared 23 it would be 529.0\n",
      "If I squared 24 it would be 576.0\n"
     ]
    }
   ],
   "source": [
    "# Another common situation is the need to execute a code block until some condition is met. \n",
    "# This is done with a while conditional. Here, we're telling the program \"While some condition is true, do this.\" \n",
    "# For example, suppose we wanted to print the square roots of values on the range 1–15.\n",
    "import math\n",
    "# i = 1\n",
    "# while i <= 15:\n",
    "# \tprint( 'The square root of', i, 'is', math.sqrt( i ) )\n",
    "# \ti = i + 1\n",
    "i = 2\n",
    "while i <=24:\n",
    "    print( 'If I squared', i, 'it would be', math.pow(i, 2) )\n",
    "#     need to increment, don't forget code block\n",
    "    i = i + 1\n",
    "# Notice that the variable that's compared in the while conditional normally must be updated in the conditional's \n",
    "# code block. If you don't update the conditional variable, a comparison that initially evaluates to\n",
    "# True will never evaluate to False, which means the while loop will execute forever."
   ]
  },
  {
   "cell_type": "code",
   "execution_count": 18,
   "metadata": {},
   "outputs": [
    {
     "name": "stdout",
     "output_type": "stream",
     "text": [
      "The square root of 1 is 1.0\n",
      "The square root of 2 is 1.4142135623730951\n",
      "The square root of 3 is 1.7320508075688772\n",
      "The square root of 4 is 2.0\n",
      "The square root of 5 is 2.23606797749979\n",
      "The square root of 6 is 2.449489742783178\n",
      "The square root of 7 is 2.6457513110645907\n",
      "The square root of 8 is 2.8284271247461903\n",
      "The square root of 9 is 3.0\n"
     ]
    }
   ],
   "source": [
    "# A final conditional that is very common is a for loop. Here, we're telling a program \n",
    "# \"Execute this code block for some list of values.\" for can work on any list of values, \n",
    "# but it's often applied to a numeric range.\n",
    "# The range command is used to create a sequence of integers.\n",
    "# print( range( 5, 10 ) )\n",
    "# print( range( 10 ) )\n",
    "# print( list( range( -15, -10 ) ) )\n",
    "\n",
    "for i in range(1, 10):\n",
    "        print('The square root of', i, 'is', math.sqrt(i))"
   ]
  },
  {
   "cell_type": "code",
   "execution_count": 25,
   "metadata": {},
   "outputs": [
    {
     "name": "stdout",
     "output_type": "stream",
     "text": [
      "mean of d is 13.75\n",
      "13.75\n",
      "13.75\n"
     ]
    }
   ],
   "source": [
    "# loop practice problem\n",
    "# Write a set of Python statements to compute the average of the following list of numbers.\n",
    "# 6, 12, -7, 29, 14, 38, 11, 7\n",
    "import statistics\n",
    "# make a list\n",
    "d=[6, 12, -7, 29, 14, 38, 11, 7]\n",
    "# assign variable\n",
    "x = statistics.mean(d)\n",
    "# print statement\n",
    "print('mean of d is', x)\n",
    "\n",
    "# can also use for loop \n",
    "num = [ 6, 12, -7, 29, 14, 38, 11, 7 ]\n",
    "sum = 0\n",
    "for n in num:\n",
    "\tsum = sum + n\n",
    "print( float( sum ) / len( num ) )\n",
    "\n",
    "# or while loop\n",
    "num = [ 6, 12, -7, 29, 14, 38, 11, 7 ]\n",
    "i = 0\n",
    "sum = 0\n",
    "while i < len(num):\n",
    "        sum= sum + num[i]\n",
    "        i = i + 1\n",
    "# turn sum into float\n",
    "print(float(sum)/ len(num))"
   ]
  },
  {
   "cell_type": "code",
   "execution_count": null,
   "metadata": {},
   "outputs": [],
   "source": []
  }
 ],
 "metadata": {
  "kernelspec": {
   "display_name": "Python 3",
   "language": "python",
   "name": "python3"
  },
  "language_info": {
   "codemirror_mode": {
    "name": "ipython",
    "version": 3
   },
   "file_extension": ".py",
   "mimetype": "text/x-python",
   "name": "python",
   "nbconvert_exporter": "python",
   "pygments_lexer": "ipython3",
   "version": "3.7.6"
  }
 },
 "nbformat": 4,
 "nbformat_minor": 4
}
