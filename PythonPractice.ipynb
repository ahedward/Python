{
 "cells": [
  {
   "cell_type": "code",
   "execution_count": 7,
   "metadata": {},
   "outputs": [
    {
     "name": "stdout",
     "output_type": "stream",
     "text": [
      "Christopher Healey @ 9195138112\n",
      "Michael Rappa @ 9195130480\n",
      "Aric LaBarr @ 9195132957\n"
     ]
    }
   ],
   "source": [
    "# Write a set of Python statements that assign the names and \n",
    "# associated phone numbers: Christopher Healey, 9195138112, Michael Rappa, 9195130480, \n",
    "# and Aric LaBarr, 9195132957 to Python variables, \n",
    "# then prints three lines listing each person's name and corresponding phone number.\n",
    "\n",
    "name0 = \"Christopher Healey\"\n",
    "number0 = 9195138112\n",
    "name1 = \"Michael Rappa\"\n",
    "number1 = 9195130480\n",
    "name2 = \"Aric LaBarr\"\n",
    "number2 = 9195132957\n",
    "\n",
    "print(name0, \"@\", number0)\n",
    "print(name1, \"@\", number1)\n",
    "print(name2, \"@\", number2)"
   ]
  },
  {
   "cell_type": "code",
   "execution_count": null,
   "metadata": {},
   "outputs": [],
   "source": []
  },
  {
   "cell_type": "code",
   "execution_count": null,
   "metadata": {},
   "outputs": [],
   "source": []
  },
  {
   "cell_type": "code",
   "execution_count": null,
   "metadata": {},
   "outputs": [],
   "source": []
  }
 ],
 "metadata": {
  "kernelspec": {
   "display_name": "Python 3",
   "language": "python",
   "name": "python3"
  },
  "language_info": {
   "codemirror_mode": {
    "name": "ipython",
    "version": 3
   },
   "file_extension": ".py",
   "mimetype": "text/x-python",
   "name": "python",
   "nbconvert_exporter": "python",
   "pygments_lexer": "ipython3",
   "version": "3.7.6"
  }
 },
 "nbformat": 4,
 "nbformat_minor": 4
}
